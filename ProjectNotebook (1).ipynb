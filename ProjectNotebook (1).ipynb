{
 "cells": [
  {
   "cell_type": "markdown",
   "id": "d2582b5b",
   "metadata": {},
   "source": [
    "# Ed Sheeran's Spotify Song Analysis \n"
   ]
  },
  {
   "cell_type": "markdown",
   "id": "56d77abe",
   "metadata": {},
   "source": [
    "Welcome to the world of Ed Sheeran! In this project, we will read and analyze some interesting facts form Ed Sheeran's song list on Spotify. This dataframe contains several variables, including:\n",
    "\n",
    "\n",
    "\n",
    "\n",
    "| Variable Name | Data Type | Explanation |\n",
    "| -------- | ------- | ------- |\n",
    "| `'uri'`  | str | Unique identifier for the song in Spotify. |\n",
    "| `'id'`  | str | Unique id for the song in Spotify. |\n",
    "| `'album'`  | str | Album name. |\n",
    "| `'name'`  | str | Song name. |\n",
    "| `'release_date'`  | str | Release year, month and date |\n",
    "| `'track_number'`  | int | The number of the track on the specified disc. |\n",
    "| `'popularity'`  | int | 0 to 100 scale of the current popularity of the song. |\n",
    "| `'danceability'`  | float | 0 to 1 scale of how suitable a track is for dancing. |\n",
    "| `'energy'`  | float | 0 to 1 scale of how energitic a track is.|\n",
    "| `'loudness'`  | float | The average loudness of a track, measured on a relative scale in decibels. Values typically range between -60 (softer) and 0 (louder). |\n",
    "| `'speechiness'`  | float | 0 to 1 scale measuring the prevalence of spoken words. |\n",
    "| `'acousticness'`  | float | 0 to 1 scale measuring how likely a track is to be acoustic. |\n",
    "| `'instrumentalness'`  | float | 0 to 1 scale measuring how likely a track is to be instrumental (without vocals). \n",
    "| `'liveness'`  | float | 0 to 1 scale measuring how likely a track is to have been recorded with a live audience.|\n",
    "| `'valence'`  | float | 0 to 1 scale of how positive or happy a track is. |\n",
    "| `'tempo'`  | float | The estimated number of beats per minute. |\n",
    "| `'duration_ms'`  | int | Length of song in milliseconds. |\n"
   ]
  },
  {
   "cell_type": "markdown",
   "id": "fbb32102",
   "metadata": {},
   "source": [
    "## Download libraries\n"
   ]
  },
  {
   "cell_type": "markdown",
   "id": "6121e264",
   "metadata": {},
   "source": [
    "Some necessary libraries that should be predownloaded before running include pandas, numpy, and matplotlib\n"
   ]
  },
  {
   "cell_type": "code",
   "execution_count": null,
   "id": "6df1366f",
   "metadata": {
    "scrolled": true
   },
   "outputs": [],
   "source": [
    "!pip install matplotlib"
   ]
  },
  {
   "cell_type": "code",
   "execution_count": null,
   "id": "c605ab1c",
   "metadata": {},
   "outputs": [],
   "source": [
    "import pandas as pd\n",
    "import numpy as np\n",
    "import os\n",
    "\n",
    "from matplotlib import pyplot as plt\n",
    "\n",
    "plt.style.use('ggplot')\n",
    "plt.rcParams[\"figure.figsize\"] = (10, 5)\n",
    "\n",
    "\n",
    "\n",
    "\n"
   ]
  },
  {
   "cell_type": "markdown",
   "id": "8e14e7c1",
   "metadata": {},
   "source": [
    "Import functions and test functions from my module"
   ]
  },
  {
   "cell_type": "code",
   "execution_count": null,
   "id": "17977066",
   "metadata": {},
   "outputs": [],
   "source": [
    "\n",
    "\n",
    "from My_module.functions import *\n",
    "\n"
   ]
  },
  {
   "cell_type": "markdown",
   "id": "72b4923b",
   "metadata": {},
   "source": [
    "# Part1: Data Processing\n",
    "By running this function, we will read the csv file and set the variable data to the dataframe. "
   ]
  },
  {
   "cell_type": "code",
   "execution_count": null,
   "id": "e4bdbaab",
   "metadata": {},
   "outputs": [],
   "source": [
    "file = pd.read_csv('ed_sheeran_spotify.csv')\n",
    "\n",
    "data = data_processing(file)\n",
    "\n",
    "data\n",
    "\n",
    "\n",
    "\n",
    "\n",
    "\n",
    "\n"
   ]
  },
  {
   "cell_type": "code",
   "execution_count": 5,
   "id": "3512155c",
   "metadata": {},
   "outputs": [],
   "source": [
    "\n"
   ]
  },
  {
   "cell_type": "markdown",
   "id": "cdb2f858",
   "metadata": {},
   "source": [
    "# Part2: Get the best album \n"
   ]
  },
  {
   "cell_type": "markdown",
   "id": "dfd86cca",
   "metadata": {},
   "source": [
    "By running this function, it will return the album name that has the highest value of the input trait/variable in the dataframe. Examples of traits may include 'popularity', 'danceability', 'valence', and so forth.\n",
    "\n",
    "In the following case, we try to use the trait 'popularity' as our parameter to calculate. The returned album name is the album with the higest value of popularity."
   ]
  },
  {
   "cell_type": "code",
   "execution_count": 6,
   "id": "62241754",
   "metadata": {},
   "outputs": [
    {
     "name": "stderr",
     "output_type": "stream",
     "text": [
      "/home/yuz271/Final-Project/Cogs18-Project/My_module/functions.py:59: FutureWarning: The default value of numeric_only in DataFrameGroupBy.mean is deprecated. In a future version, numeric_only will default to False. Either specify numeric_only or select only columns which should be valid for the function.\n",
      "  album_sorted = data.groupby('album').mean()\n"
     ]
    },
    {
     "data": {
      "text/plain": [
       "'÷ (Deluxe)'"
      ]
     },
     "execution_count": 6,
     "metadata": {},
     "output_type": "execute_result"
    }
   ],
   "source": [
    "best_album(data, 'popularity')"
   ]
  },
  {
   "cell_type": "markdown",
   "id": "10851d0b",
   "metadata": {},
   "source": [
    "# Part3: Get the song recommender"
   ]
  },
  {
   "cell_type": "markdown",
   "id": "1f75187e",
   "metadata": {},
   "source": [
    "By running this function, it will return a song name that has the highest similarity to the input song based on the input trait. \n",
    "\n",
    "In the following case, we try to use the trait 'loudness' as our parameter to calculate. The returned song name is the song that is the most similar to the input song 'Supermarket Flowers' based on comparing their loudness values. In other words, the song returned and the input song 'Supermarket Flowers' has the most similar loudness value."
   ]
  },
  {
   "cell_type": "code",
   "execution_count": 8,
   "id": "05b50677",
   "metadata": {},
   "outputs": [
    {
     "data": {
      "text/plain": [
       "'Firefly - Bravado Dubstep Remix'"
      ]
     },
     "execution_count": 8,
     "metadata": {},
     "output_type": "execute_result"
    }
   ],
   "source": [
    "\n",
    "song_recommender('Supermarket Flowers', data, 'loudness')"
   ]
  },
  {
   "cell_type": "raw",
   "id": "0c56ca7e",
   "metadata": {},
   "source": []
  },
  {
   "cell_type": "markdown",
   "id": "56ce188d",
   "metadata": {},
   "source": [
    "# Part4: Get the best season"
   ]
  },
  {
   "cell_type": "markdown",
   "id": "eba5dfcd",
   "metadata": {
    "slideshow": {
     "slide_type": "subslide"
    }
   },
   "source": [
    "By running this function, it will return a season that has the highest value of the input trait.\n",
    "\n",
    "In the following case, we try to use the trait as our parameter to calculate. The returned season 'summer' means that songs released in summer have the highest total value of liveness in comparison with other songs released in spring, fall, or winter."
   ]
  },
  {
   "cell_type": "code",
   "execution_count": 10,
   "id": "d462a228",
   "metadata": {},
   "outputs": [
    {
     "data": {
      "text/plain": [
       "'summer'"
      ]
     },
     "execution_count": 10,
     "metadata": {},
     "output_type": "execute_result"
    }
   ],
   "source": [
    "best_season(data, 'liveness')"
   ]
  },
  {
   "cell_type": "markdown",
   "id": "3afdb883",
   "metadata": {},
   "source": [
    "# Part5: Get the correlation plot"
   ]
  },
  {
   "cell_type": "markdown",
   "id": "810391c3",
   "metadata": {},
   "source": [
    "By running this code, it will return a plot that reflects the relationship between two input traits of our choices.\n",
    "\n",
    "In the following case, it plots the line of the best fit and the scatter plot showing the correlation between the trait 'valence' and the trait 'tempo'."
   ]
  },
  {
   "cell_type": "code",
   "execution_count": null,
   "id": "ac68442d",
   "metadata": {
    "scrolled": true
   },
   "outputs": [],
   "source": [
    "relation_graph(data, 'valence', 'tempo')"
   ]
  },
  {
   "cell_type": "markdown",
   "id": "7fcb740d",
   "metadata": {},
   "source": [
    "# Extra credit "
   ]
  },
  {
   "cell_type": "markdown",
   "id": "647b519a",
   "metadata": {},
   "source": [
    "\n",
    "For this project, I spent 6-8 hours on learning about numpy and pandas documentations. Having zero background in coding before taking this class, I found it extremely challenging for me to utilize different libraries to achieve my purpose. Personally, knowing how a lot of tasks could be easily achieve by merely inputing parameters and checking the corresponding documentations of numpy, I tried to double the efforts and create multiple tasks in a function. Going beyond ploting, getting the max value, locating a specific row, I attempted to combine multiple tasks at once. For instance, in my function song_recommender, I had to not only creating for loop to  but also to calculating distance and variance values, storing values in numpy arrays, and creating new dataframe for better representation of the tasks. Throughout the whole designing process, I went beyond the minimum requirement and enrich myself with techniques of ploting, sorting, locating, and even learning about the usage of Euclidean distance formula in data analysis. It frustrated me a lot when i have to go back and forth to fix my code with small little errors like \"loc\" and \"iloc\" and to run pytest multiple times, but I found this period of exploration, trial and errors so rewarding and satisfying. "
   ]
  },
  {
   "cell_type": "markdown",
   "id": "f205fe3b",
   "metadata": {},
   "source": [
    "Side note!!\n"
   ]
  },
  {
   "cell_type": "code",
   "execution_count": null,
   "id": "7fa00365",
   "metadata": {},
   "outputs": [],
   "source": []
  },
  {
   "cell_type": "code",
   "execution_count": null,
   "id": "79061b8a",
   "metadata": {},
   "outputs": [],
   "source": []
  }
 ],
 "metadata": {
  "kernelspec": {
   "display_name": "Python 3 (ipykernel)",
   "language": "python",
   "name": "python3"
  },
  "language_info": {
   "codemirror_mode": {
    "name": "ipython",
    "version": 3
   },
   "file_extension": ".py",
   "mimetype": "text/x-python",
   "name": "python",
   "nbconvert_exporter": "python",
   "pygments_lexer": "ipython3",
   "version": "3.9.5"
  }
 },
 "nbformat": 4,
 "nbformat_minor": 5
}
